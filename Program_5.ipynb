{
  "nbformat": 4,
  "nbformat_minor": 0,
  "metadata": {
    "colab": {
      "private_outputs": true,
      "provenance": [],
      "authorship_tag": "ABX9TyPk4VxPK52PWOWOFFUYi5eX",
      "include_colab_link": true
    },
    "kernelspec": {
      "name": "python3",
      "display_name": "Python 3"
    },
    "language_info": {
      "name": "python"
    }
  },
  "cells": [
    {
      "cell_type": "markdown",
      "metadata": {
        "id": "view-in-github",
        "colab_type": "text"
      },
      "source": [
        "<a href=\"https://colab.research.google.com/github/VINAY9516/Machine-Learning-Projects/blob/master/Program_5.ipynb\" target=\"_parent\"><img src=\"https://colab.research.google.com/assets/colab-badge.svg\" alt=\"Open In Colab\"/></a>"
      ]
    },
    {
      "cell_type": "code",
      "execution_count": null,
      "metadata": {
        "id": "lrywsx3Z0zuj"
      },
      "outputs": [],
      "source": [
        "import matplotlib.pyplot as plt\n",
        "import numpy as np\n",
        "import pandas as pd\n",
        "from google.colab import files\n",
        "(9/14)*np.log2(9/14)+5/14*np.log2(5/14)\n",
        "eps = np.finfo(float).eps \n",
        "data = files.upload()"
      ]
    },
    {
      "cell_type": "code",
      "source": [
        "data = pd.read_csv('tennisdata.csv')\n",
        "data\n",
        "def entropy(df):\n",
        "    Class = df.keys()[-1]\n",
        "    entropy = 0\n",
        "    values = df[Class].unique()\n",
        "    for value in values:\n",
        "        fraction = df[Class].value_counts()[value]/len(df[Class])\n",
        "        entropy += -fraction*np.log2(fraction)\n",
        "    return entropy\n",
        "entropy(data)\n",
        "def entropy_attribute(df,attribute):\n",
        "    Class = df.keys()[-1]\n",
        "    target_variables = df[Class].unique()\n",
        "    variables = df[attribute].unique()\n",
        "    entropy2 = 0\n",
        "    for variable in variables:\n",
        "        entropy = 0\n",
        "        for target_variable in target_variables:\n",
        "            num = len(df[attribute][df[attribute]==variable][df[Class] \n",
        "            ==target_variable])\n",
        "            den = len(df[attribute][df[attribute]==variable])\n",
        "            fraction = num/(den+eps)\n",
        "            entropy += -fraction*np.log2(fraction+eps)\n",
        "        fraction2 = den/len(df)\n",
        "        entropy2 += -fraction2*entropy\n",
        "    return abs(entropy2)\n",
        "entropy_attribute(data,'Outlook')\n",
        "def information_gain(df):\n",
        "    IG = []\n",
        "    for key in df.keys()[:-1]:\n",
        "        IG.append(entropy(df)-entropy_attribute(df,key))\n",
        "    return IG, df.keys()[np.argmax(IG)]\n",
        "information_gain(data)\n",
        "print(\"The Root is Outlook\")\n",
        "def get_subtable(df, node, value):\n",
        "    df2 = df[df[node] == value].reset_index(drop=True)\n",
        "    df2.drop(node,axis=1,inplace=True)\n",
        "    return df2\n",
        "dt2_1 = get_subtable(data,'Outlook','Sunny')\n",
        "dt2_1\n",
        "information_gain(dt2_1)\n",
        "print(\"The Final Leaf is Humidity for Outlook is Sunny\")\n",
        "dt2_2 = get_subtable(data,'Outlook','Overcast')\n",
        "dt2_2\n",
        "print(\"The Final Leaf is Outlook is Overcast\")\n",
        "dt2_3 = get_subtable(data,'Outlook','Rainy')\n",
        "dt2_3\n",
        "information_gain(dt2_3)"
      ],
      "metadata": {
        "id": "OUNJty7w1ax3"
      },
      "execution_count": null,
      "outputs": []
    }
  ]
}