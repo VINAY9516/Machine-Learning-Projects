{
  "nbformat": 4,
  "nbformat_minor": 0,
  "metadata": {
    "colab": {
      "private_outputs": true,
      "provenance": [],
      "authorship_tag": "ABX9TyMRSXvwNsqdm6tXUAosBBUQ",
      "include_colab_link": true
    },
    "kernelspec": {
      "name": "python3",
      "display_name": "Python 3"
    },
    "language_info": {
      "name": "python"
    }
  },
  "cells": [
    {
      "cell_type": "markdown",
      "metadata": {
        "id": "view-in-github",
        "colab_type": "text"
      },
      "source": [
        "<a href=\"https://colab.research.google.com/github/VINAY9516/Machine-Learning-Projects/blob/master/Program_7.ipynb\" target=\"_parent\"><img src=\"https://colab.research.google.com/assets/colab-badge.svg\" alt=\"Open In Colab\"/></a>"
      ]
    },
    {
      "cell_type": "code",
      "execution_count": null,
      "metadata": {
        "id": "is_UjIaHK291"
      },
      "outputs": [],
      "source": [
        "import pandas as pd\n",
        "import numpy as np\n",
        "from sklearn.preprocessing import LabelEncoder\n",
        "from sklearn.naive_bayes import GaussianNB\n",
        "from google.colab import files\n",
        "data = files.upload()"
      ]
    },
    {
      "cell_type": "code",
      "source": [
        "\n",
        "data = pd.read_csv('tennisdata.csv')\n",
        "print(\"THe first 5 values of data is :\\n\",data.head())\n",
        "\n",
        "X = data.iloc[:,:-1]\n",
        "print(\"\\nThe First 5 values of train data is\\n\",X)\n",
        "\n",
        "y = data.iloc[:,-1]\n",
        "print(\"\\nThe first 5 values of Train output is\\n\",y.head())\n",
        "\n",
        "le= LabelEncoder()\n",
        "X.Outlook = le.fit_transform(X.Outlook)\n",
        "X.Temperature = le.fit_transform(X.Temperature)\n",
        "X.Humidity = le.fit_transform(X.Humidity)\n",
        "X.Windy = le.fit_transform(X.Windy)\n",
        "print(\"\\nNow the Train data is :\\n\",X.head())\n",
        "\n",
        "y = le.fit_transform(y)\n",
        "print(\"\\nNow the Train output is\\n\",y)"
      ],
      "metadata": {
        "id": "2NqH9d1YLbU8"
      },
      "execution_count": null,
      "outputs": []
    },
    {
      "cell_type": "code",
      "source": [
        "from sklearn.model_selection import train_test_split\n",
        "X_train, X_test, y_train, y_test = train_test_split(X,y, test_size=0.20)\n",
        "\n",
        "classifier = GaussianNB()\n",
        "classifier.fit(X_train,y_train)\n",
        "\n",
        "from sklearn.metrics import accuracy_score\n",
        "train_score=accuracy_score(classifier.predict(X_train),y_train) * 100\n",
        "train_score=np.round((train_score),2)\n",
        "print(\"Accuracy for the Training data set isis:\",train_score,\"%\")\n",
        "\n",
        "classifier.fit(X_train,y_train)\n",
        "y_pred = classifier.predict(X_test)\n",
        "\n",
        "test_score=np.round(classifier.score(X_test,y_test)*100,2)\n",
        "print(\"Accuracy for the Testing data set is:\",test_score,\"%\")"
      ],
      "metadata": {
        "id": "5aNO8ZdDMrZ_"
      },
      "execution_count": null,
      "outputs": []
    },
    {
      "cell_type": "code",
      "source": [
        "dataset2=files.upload()"
      ],
      "metadata": {
        "id": "sWWttNRMNeP2"
      },
      "execution_count": null,
      "outputs": []
    },
    {
      "cell_type": "code",
      "source": [
        "dataset2=pd.read_csv('tennisdata_set2.csv')\n",
        "x_test2=dataset2.iloc[:,:-1]\n",
        "print(\"X values of Dataset 2\\n\",x_test2)\n",
        "y2 = dataset2.iloc[:,-1]\n",
        "print(\"Y values of Dataset 2\\n\",y2)\n",
        "\n",
        "le2 = LabelEncoder()\n",
        "x_test2.Outlook = le2.fit_transform(x_test2.Outlook)\n",
        "x_test2.Temperature = le2.fit_transform(x_test2.Temperature)\n",
        "x_test2.Humidity = le2.fit_transform(x_test2.Humidity)\n",
        "x_test2.Windy = le2.fit_transform(x_test2.Windy)\n",
        "\n",
        "y2 = le2.fit_transform(y2)\n",
        "y2\n",
        "y_pred2 = classifier.predict(x_test2)\n",
        "y_pred2\n",
        "\n",
        "test_score2=np.round(classifier.score(x_test2,y2)*100,2)\n",
        "\n",
        "print(\"Accuracy for the Testing data set2 is:\",test_score2,\"%\")"
      ],
      "metadata": {
        "id": "jsfXVuePM8V9"
      },
      "execution_count": null,
      "outputs": []
    }
  ]
}