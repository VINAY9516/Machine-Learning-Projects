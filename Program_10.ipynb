{
  "nbformat": 4,
  "nbformat_minor": 0,
  "metadata": {
    "colab": {
      "private_outputs": true,
      "provenance": [],
      "authorship_tag": "ABX9TyMRX77su/wKXnabd4RAxJ3C",
      "include_colab_link": true
    },
    "kernelspec": {
      "name": "python3",
      "display_name": "Python 3"
    },
    "language_info": {
      "name": "python"
    }
  },
  "cells": [
    {
      "cell_type": "markdown",
      "metadata": {
        "id": "view-in-github",
        "colab_type": "text"
      },
      "source": [
        "<a href=\"https://colab.research.google.com/github/VINAY9516/Machine-Learning-Projects/blob/master/Program_10.ipynb\" target=\"_parent\"><img src=\"https://colab.research.google.com/assets/colab-badge.svg\" alt=\"Open In Colab\"/></a>"
      ]
    },
    {
      "cell_type": "code",
      "execution_count": null,
      "metadata": {
        "id": "gAiG9eKHAilJ"
      },
      "outputs": [],
      "source": [
        "import matplotlib.pyplot as plt\n",
        "import pandas as pd\n",
        "import numpy as np\n",
        "def kernel(point,xmat, k):\n",
        "    m,n= np.shape(xmat)\n",
        "    weights = np.mat(np.eye((m)))\n",
        "    for j in range(m):\n",
        "        diff = point - X[j]\n",
        "        weights[j,j] = np.exp(diff*diff.T/(-2.0*k**2))\n",
        "    return weights\n",
        "def localWeight(point,xmat,ymat,k):\n",
        "    wei = kernel(point,xmat,k)\n",
        "    W = (X.T*(wei*X)).I*(X.T*(wei*ymat.T))\n",
        "    return W\n",
        "def localWeightRegression(xmat,ymat,k):\n",
        "    m,n = np.shape(xmat)\n",
        "    ypred = np.zeros(m)\n",
        "    for i in range(m):\n",
        "        ypred[i] = xmat[i]*localWeight(xmat[i],xmat,ymat,k)\n",
        "    return ypred\n",
        "from google.colab import files\n",
        "data=files.upload()"
      ]
    },
    {
      "cell_type": "code",
      "source": [
        "data = pd.read_csv('data_tips.csv')\n",
        "bill = np.array(data.total_bill)\n",
        "tip = np.array(data.tip)\n",
        "data\n",
        "mbill = np.mat(bill)\n",
        "print(\"mbil=\\n\",mbill)\n",
        "mtip = np.mat(tip)\n",
        "print(\"mTiptip=\\n\",mtip)\n",
        "m= np.shape(mbill)[1]\n",
        "print(\"mvalue=\\n\",m)\n",
        "one = np.mat(np.ones(m))\n",
        "print(\"one=\\n\",one)\n",
        "X= np.hstack((one.T,mbill.T))\n",
        "print(\"X value=\\n\",X)\n",
        "ypred = localWeightRegression(X,mtip,2)\n",
        "print(ypred)\n",
        "SortIndex = X[:,1].argsort(0)\n",
        "xsort = X[SortIndex][:,0]\n",
        "plt.figure()\n",
        "plt.subplot(1,1,1)\n",
        "plt.scatter(bill,tip, color='blue')\n",
        "plt.plot(xsort[:,1],ypred[SortIndex], color = 'red',linewidth=1)\n",
        "plt.xlabel('Total bill')\n",
        "plt.ylabel('Tip')"
      ],
      "metadata": {
        "id": "rhuKGal_Am-4"
      },
      "execution_count": null,
      "outputs": []
    }
  ]
}