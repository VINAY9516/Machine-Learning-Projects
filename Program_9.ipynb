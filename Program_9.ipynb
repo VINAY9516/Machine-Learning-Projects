{
  "nbformat": 4,
  "nbformat_minor": 0,
  "metadata": {
    "colab": {
      "private_outputs": true,
      "provenance": [],
      "authorship_tag": "ABX9TyMsaHM4c/3OS+e/uyOqK6ZR",
      "include_colab_link": true
    },
    "kernelspec": {
      "name": "python3",
      "display_name": "Python 3"
    },
    "language_info": {
      "name": "python"
    }
  },
  "cells": [
    {
      "cell_type": "markdown",
      "metadata": {
        "id": "view-in-github",
        "colab_type": "text"
      },
      "source": [
        "<a href=\"https://colab.research.google.com/github/VINAY9516/Machine-Learning-Projects/blob/master/Program_9.ipynb\" target=\"_parent\"><img src=\"https://colab.research.google.com/assets/colab-badge.svg\" alt=\"Open In Colab\"/></a>"
      ]
    },
    {
      "cell_type": "code",
      "execution_count": null,
      "metadata": {
        "id": "Gvh7Z2pWQKrC"
      },
      "outputs": [],
      "source": [
        "from sklearn import datasets\n",
        "from sklearn.neighbors import KNeighborsClassifier\n",
        "from sklearn.model_selection import train_test_split\n",
        "import numpy as np\n",
        "\n",
        "dataset=datasets.load_iris()\n",
        "print(dataset)\n",
        "\n",
        "X_train,X_test,y_train,y_test=train_test_split(dataset[\"data\"],dataset[\"target\"])\n",
        "kn=KNeighborsClassifier(n_neighbors=15)\n",
        "kn.fit(X_train,y_train)\n",
        "\n",
        "for i in range(len(X_test)):\n",
        " x=X_test[i]\n",
        " x_new=np.array([x])\n",
        " prediction=kn.predict(x_new)\n",
        "\n",
        "print(\"TARGET=\",y_test[i],dataset[\"target_names\"][y_test[i]],\"PREDICTED=\",prediction,dataset\n",
        "[\"target_names\"][prediction])\n",
        "print(kn.score(X_test,y_test))"
      ]
    }
  ]
}