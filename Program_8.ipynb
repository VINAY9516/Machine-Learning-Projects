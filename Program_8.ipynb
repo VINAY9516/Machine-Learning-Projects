{
  "nbformat": 4,
  "nbformat_minor": 0,
  "metadata": {
    "colab": {
      "private_outputs": true,
      "provenance": [],
      "authorship_tag": "ABX9TyPyBxSKL80J3WOlhJ6iBbMi",
      "include_colab_link": true
    },
    "kernelspec": {
      "name": "python3",
      "display_name": "Python 3"
    },
    "language_info": {
      "name": "python"
    }
  },
  "cells": [
    {
      "cell_type": "markdown",
      "metadata": {
        "id": "view-in-github",
        "colab_type": "text"
      },
      "source": [
        "<a href=\"https://colab.research.google.com/github/VINAY9516/Machine-Learning-Projects/blob/master/Program_8.ipynb\" target=\"_parent\"><img src=\"https://colab.research.google.com/assets/colab-badge.svg\" alt=\"Open In Colab\"/></a>"
      ]
    },
    {
      "cell_type": "code",
      "execution_count": null,
      "metadata": {
        "id": "eNY2TB0HR6Nx"
      },
      "outputs": [],
      "source": [
        "import numpy as np\n",
        "import pandas as pd\n",
        "import matplotlib.pyplot as plt\n",
        "from sklearn import datasets\n",
        "from sklearn.cluster import KMeans\n",
        "from sklearn import preprocessing"
      ]
    },
    {
      "cell_type": "code",
      "source": [
        "iris=datasets.load_iris()\n",
        "\n",
        "X=pd.DataFrame(iris.data)\n",
        "print(X)\n",
        "X.columns=[\"Sepal_Length\",\"Sepal_Width\",\"Petal_Length\",\"Petal_Width\"]\n",
        "print(X)\n",
        "y=pd.DataFrame(iris.target)\n",
        "y.columns=[\"Targets\"]\n",
        "y\n",
        "\n",
        "plt.figure(figsize=(14,14))\n",
        "colormap=np.array([\"red\",\"lime\",\"black\"])\n",
        "\n",
        "plt.subplot(2,2,1)\n",
        "plt.scatter(X.Petal_Length,X.Petal_Width,c=colormap[y.Targets],s=40)\n",
        "plt.title(\"Real clusters\")\n",
        "plt.xlabel(\"Petal Length\")\n",
        "plt.ylabel(\"Petal width\")\n",
        "\n",
        "model=KMeans(n_clusters=3)\n",
        "model.fit(X)\n",
        "plt.subplot(2,2,2)\n",
        "plt.scatter(X.Petal_Length,X.Petal_Width,c=colormap[y.Targets],s=40)\n",
        "plt.title(\"K Means Clustering\")\n",
        "plt.xlabel(\"Petal Length\")\n",
        "plt.ylabel(\"Petal width\")\n",
        "\n",
        "scaler=preprocessing.StandardScaler()\n",
        "scaler.fit(X)\n",
        "Xsa=scaler.transform(X)\n",
        "Xsa\n",
        "Xs=pd.DataFrame(Xsa,columns=X.columns)\n",
        "Xs"
      ],
      "metadata": {
        "id": "kiI349OMSJwS"
      },
      "execution_count": null,
      "outputs": []
    },
    {
      "cell_type": "code",
      "source": [
        "from sklearn.mixture import GaussianMixture\n",
        "gmm=GaussianMixture(n_components=3)\n",
        "gmm.fit(Xs)\n",
        "gmm_y=gmm.predict(Xs)\n",
        "plt.subplot(2,2,3)\n",
        "plt.scatter(X.Petal_Length,X.Petal_Width,c=colormap[gmm_y],s=40)\n",
        "plt.title(\"Guassinan Mixture Model Clustering\")\n",
        "plt.xlabel(\"Petal Length\")\n",
        "plt.ylabel(\"Petal width\")"
      ],
      "metadata": {
        "id": "heXgKFoOTWZ6"
      },
      "execution_count": null,
      "outputs": []
    },
    {
      "cell_type": "code",
      "source": [
        "\n",
        "print(\" Guassinan Mixture Model using EM Algorithms classifies better than the KMeans \")"
      ],
      "metadata": {
        "id": "b5LZuGbuTsyg"
      },
      "execution_count": null,
      "outputs": []
    }
  ]
}